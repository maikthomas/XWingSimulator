{
 "cells": [
  {
   "cell_type": "markdown",
   "metadata": {},
   "source": [
    "XWing Analysis. "
   ]
  },
  {
   "cell_type": "code",
   "execution_count": 190,
   "metadata": {},
   "outputs": [],
   "source": [
    "import random\n",
    "\n",
    "def throwDices(numberDice, r1threshold, r2threshold):\n",
    "    r1=r2=r3=0\n",
    "    for x in range(numberDice):\n",
    "        randomnumber=random.randint(1,8)\n",
    "        if(randomnumber<=r1threshold):\n",
    "            r1+=1\n",
    "        elif(randomnumber<=r2threshold):\n",
    "            r2+=1\n",
    "        else:\n",
    "            r3+=1\n",
    "    return(r1,r2,r3)\n",
    "\n",
    "def attack(attackDice=0, defenseDice=0, focusAttack=0, focusDefense=0, evadeDefense=0, targetLock=0):\n",
    "    hits=0; nFocusAtt=0; nEvades=0; nFocusDef=0\n",
    "    (hits, nFocusAtt, blanks)=throwDices(attackDice, 4, 6)\n",
    "    if(targetLock & ((hits+nFocusAtt*focusAttack)<attackDice)):\n",
    "        (newHits, newFocusAtt, blanks)=throwDices(attackDice-(hits+nFocusAtt*focusAttack), 4, 6)\n",
    "        hits+=newHits\n",
    "        nFocusAtt+=newFocusAtt\n",
    "    (nEvades, nFocusDef, blanks)=throwDices(defenseDice, 3, 5)\n",
    "    if(focusAttack):\n",
    "        hits+=nFocusAtt\n",
    "    if(focusDefense):\n",
    "        nEvades+=nFocusDef\n",
    "        if(nEvades>defenseDice):\n",
    "            nEvades=defenseDice\n",
    "    if(evadeDefense):\n",
    "        if(nEvades<defenseDice):\n",
    "            nEvades+=1\n",
    "    hits-=nEvades\n",
    "    if(hits<0):   \n",
    "        hits=0\n",
    "    return hits"
   ]
  },
  {
   "cell_type": "code",
   "execution_count": 202,
   "metadata": {
    "scrolled": false
   },
   "outputs": [],
   "source": [
    "def attackStatisticSimulation(attackDice=0, defenseDice=0,focusAttack=0, focusDefense=0, evadeDefense=0, targetLock=0):\n",
    "    numberAttacks=10000\n",
    "    result=0\n",
    "    for x in range(numberAttacks):\n",
    "        result+=attack(attackDice, defenseDice, focusAttack, focusDefense, evadeDefense, targetLock)/numberAttacks\n",
    "    return(result)\n",
    "\n",
    "def printAttackMatrix(focusAttack=0, focusDefense=0, evadeDefense=0, targetLock=0):\n",
    "    print(\"\\tDefense\")\n",
    "    print(\"Attack\", end = '\\t')\n",
    "    for y in range(5):\n",
    "            print(y, end = '\\t')\n",
    "    print()\n",
    "    for x in range(5):\n",
    "        print(x, end = '\\t')\n",
    "        for y in range(5):\n",
    "            print(round(attackStatisticSimulation(x,y,focusAttack, focusDefense, evadeDefense, targetLock),2), end = '\\t')\n",
    "        print()\n"
   ]
  },
  {
   "cell_type": "code",
   "execution_count": 203,
   "metadata": {
    "scrolled": true
   },
   "outputs": [
    {
     "name": "stdout",
     "output_type": "stream",
     "text": [
      "\tDefense\n",
      "Attack\t0\t1\t2\t3\t4\t\n",
      "0\t0.0\t0.0\t0.0\t0.0\t0.0\t\n",
      "1\t0.5\t0.31\t0.2\t0.12\t0.08\t\n",
      "2\t1.0\t0.7\t0.51\t0.36\t0.25\t\n",
      "3\t1.49\t1.16\t0.9\t0.67\t0.5\t\n",
      "4\t2.01\t1.65\t1.32\t1.07\t0.82\t\n"
     ]
    }
   ],
   "source": [
    "printAttackMatrix(0,0,0,0)"
   ]
  },
  {
   "cell_type": "markdown",
   "metadata": {},
   "source": [
    "Average damage of standard attacks vs defense dices. No Actions involved"
   ]
  },
  {
   "cell_type": "code",
   "execution_count": 207,
   "metadata": {
    "scrolled": true
   },
   "outputs": [
    {
     "name": "stdout",
     "output_type": "stream",
     "text": [
      "\tDefense\n",
      "Attack\t0\t1\t2\t3\t4\t\n",
      "0\t0.0\t0.0\t0.0\t0.0\t0.0\t\n",
      "1\t0.75\t0.28\t0.1\t0.04\t0.02\t\n",
      "2\t1.51\t0.92\t0.47\t0.22\t0.11\t\n",
      "3\t2.25\t1.64\t1.08\t0.62\t0.35\t\n",
      "4\t3.0\t2.37\t1.76\t1.21\t0.79\t\n"
     ]
    }
   ],
   "source": [
    "printAttackMatrix(1,1,0,0)"
   ]
  },
  {
   "cell_type": "markdown",
   "metadata": {},
   "source": [
    "Average damage of standard attacks vs defense dices. Both players focus."
   ]
  },
  {
   "cell_type": "code",
   "execution_count": 205,
   "metadata": {
    "scrolled": true
   },
   "outputs": [
    {
     "name": "stdout",
     "output_type": "stream",
     "text": [
      "\tDefense\n",
      "Attack\t0\t1\t2\t3\t4\t\n",
      "0\t0.0\t0.0\t0.0\t0.0\t0.0\t\n",
      "1\t0.75\t0.0\t0.0\t0.0\t0.0\t\n",
      "2\t1.5\t0.57\t0.23\t0.14\t0.08\t\n",
      "3\t2.26\t1.26\t0.75\t0.48\t0.34\t\n",
      "4\t3.0\t2.0\t1.43\t1.04\t0.79\t\n"
     ]
    }
   ],
   "source": [
    "printAttackMatrix(1,0,1,0)"
   ]
  },
  {
   "cell_type": "markdown",
   "metadata": {},
   "source": [
    "Average damage of standard attacks vs defense dices. Attacker plays the focus, defender evades. In 1-3 defense dice it is better to play the arrow. With 4 dice, the evasion plays like the eye (which is more flexible). The result is the same if defender cannot play evasion.\n"
   ]
  },
  {
   "cell_type": "code",
   "execution_count": 206,
   "metadata": {
    "scrolled": true
   },
   "outputs": [
    {
     "name": "stdout",
     "output_type": "stream",
     "text": [
      "\tDefense\n",
      "Attack\t0\t1\t2\t3\t4\t\n",
      "0\t0.0\t0.0\t0.0\t0.0\t0.0\t\n",
      "1\t0.75\t0.48\t0.3\t0.18\t0.12\t\n",
      "2\t1.5\t1.14\t0.85\t0.62\t0.43\t\n",
      "3\t2.24\t1.89\t1.53\t1.22\t0.93\t\n",
      "4\t3.0\t2.62\t2.28\t1.89\t1.6\t\n",
      "\tDefense\n",
      "Attack\t0\t1\t2\t3\t4\t\n",
      "0\t0.0\t0.0\t0.0\t0.0\t0.0\t\n",
      "1\t0.75\t0.47\t0.29\t0.18\t0.11\t\n",
      "2\t1.51\t1.14\t0.86\t0.61\t0.44\t\n",
      "3\t2.26\t1.87\t1.51\t1.21\t0.94\t\n",
      "4\t3.0\t2.63\t2.26\t1.89\t1.58\t\n"
     ]
    }
   ],
   "source": [
    "printAttackMatrix(1,0,0,0)\n",
    "printAttackMatrix(0,0,0,1)"
   ]
  },
  {
   "cell_type": "markdown",
   "metadata": {},
   "source": [
    "Impact of target lock. In the first matrix attacker plays \"Focus\". In the second matrix the Attacker plays Target Lock. Defender does not play the Evasion. \n",
    "\n",
    "Incredible: \"Focus\" is as good as \"Target Lock\" when attacking always."
   ]
  },
  {
   "cell_type": "code",
   "execution_count": 287,
   "metadata": {},
   "outputs": [],
   "source": [
    "def battle(fleetA, fleetB):\n",
    "    for turns in range(100):\n",
    "        for initiative in range (10, 0, -1):\n",
    "            for (ini, atDice, empty, empty) in fleetA:\n",
    "                # Go from high to low initiatives, and do...\n",
    "                if(ini==initiative):\n",
    "                    defDice=fleetB[-1][2]\n",
    "                    fleetB[-1]=(fleetB[-1][0],fleetB[-1][1],fleetB[-1][2],fleetB[-1][3]-attack(atDice, defDice))\n",
    "            for (ini, atDice, empty, empty) in fleetB:\n",
    "                # Go from high to low initiatives, and do...\n",
    "                if(ini==initiative):\n",
    "                    defDice=fleetA[-1][2]\n",
    "                    fleetA[-1]=(fleetA[-1][0],fleetA[-1][1],fleetA[-1][2],fleetA[-1][3]-attack(atDice, defDice))\n",
    "\n",
    "            #Clean last ship if 0 or less\n",
    "            if(fleetA[-1][3]<=0):\n",
    "                del(fleetA[-1])\n",
    "            if(fleetB[-1][3]<=0):\n",
    "                del(fleetB[-1])\n",
    "\n",
    "            #Check for end of battle    \n",
    "            if(len(fleetA)<1):\n",
    "                if(len(fleetB)<1):\n",
    "                    return 0.5\n",
    "                else:\n",
    "                    return 0\n",
    "            if(len(fleetB)<1):\n",
    "                return 1\n",
    "    #After 100 turns nobody wins... lets call it a day\n",
    "    print(\"TIE\")\n",
    "    return 0.5\n",
    "\n",
    "def battleStatistics(fleetA, fleetB):\n",
    "    numberBattles=10000\n",
    "    result=0\n",
    "    for x in range(numberBattles):\n",
    "        result+=battle(fleetA.copy(), fleetB.copy())/numberBattles\n",
    "    print(\"Victory A:\", round(result,3), \"Victory B\", round(1-result,3))"
   ]
  },
  {
   "cell_type": "code",
   "execution_count": 296,
   "metadata": {
    "scrolled": true
   },
   "outputs": [
    {
     "name": "stdout",
     "output_type": "stream",
     "text": [
      "Victory A: 0.595 Victory B 0.405\n"
     ]
    }
   ],
   "source": [
    "#Each ship: (initiative, attack, defense, strength)\n",
    "battleStatistics([(2,2,3,3),(2,2,3,2)],[(2,3,2,5)])"
   ]
  },
  {
   "cell_type": "markdown",
   "metadata": {},
   "source": [
    "In the initial box set, two TIE fighters against a single X Wing, Imperials have a 20% advantage."
   ]
  },
  {
   "cell_type": "code",
   "execution_count": 297,
   "metadata": {
    "scrolled": false
   },
   "outputs": [
    {
     "name": "stdout",
     "output_type": "stream",
     "text": [
      "Victory A: 0.59 Victory B 0.41\n",
      "Victory A: 0.624 Victory B 0.376\n",
      "Victory A: 0.499 Victory B 0.501\n",
      "Victory A: 0.553 Victory B 0.447\n"
     ]
    }
   ],
   "source": [
    "#Each ship: (initiative, attack, defense, strength)\n",
    "battleStatistics([(2,2,3,3),(2,2,3,2)],[(2,3,2,5)])\n",
    "battleStatistics([(3,2,3,3),(3,2,3,2)],[(2,3,2,5)])\n",
    "battleStatistics([(1,2,3,3),(1,2,3,2)],[(3,3,2,5)])\n",
    "battleStatistics([(1,2,3,3),(3,2,3,2)],[(2,3,2,5)])"
   ]
  },
  {
   "cell_type": "markdown",
   "metadata": {},
   "source": [
    "Initiative has a certain influence in victory probability, due to the \"kill first\" factor. Which means that many theoretical encounters finish with both sides being killed at the same time."
   ]
  },
  {
   "cell_type": "code",
   "execution_count": 310,
   "metadata": {
    "scrolled": true
   },
   "outputs": [
    {
     "name": "stdout",
     "output_type": "stream",
     "text": [
      "Victory A: 0.001 Victory B 0.999\n",
      "Victory A: 0.082 Victory B 0.918\n",
      "Victory A: 0.449 Victory B 0.551\n",
      "Victory A: 0.848 Victory B 0.152\n",
      "Victory A: 0.985 Victory B 0.015\n"
     ]
    }
   ],
   "source": [
    "battleStatistics([(2,2,3,2)],[(6,3,1,13)])\n",
    "battleStatistics([(2,2,3,2),(2,2,3,2)],[(6,3,1,13)])\n",
    "battleStatistics([(2,2,3,2),(2,2,3,2),(2,2,3,2)],[(6,3,1,13)])\n",
    "battleStatistics([(2,2,3,2),(2,2,3,2),(2,2,3,2),(2,2,3,2)],[(6,3,1,13)])\n",
    "battleStatistics([(2,2,3,2),(2,2,3,2),(2,2,3,2),(2,2,3,2),(2,2,3,2)],[(6,3,1,13)])"
   ]
  },
  {
   "cell_type": "markdown",
   "metadata": {},
   "source": [
    "Number gives a definitive advantage. Several small ships can beat a big one."
   ]
  },
  {
   "cell_type": "code",
   "execution_count": 311,
   "metadata": {
    "scrolled": false
   },
   "outputs": [
    {
     "name": "stdout",
     "output_type": "stream",
     "text": [
      "Victory A: 0.409 Victory B 0.591\n",
      "Victory A: 0.371 Victory B 0.629\n",
      "Victory A: 0.346 Victory B 0.654\n",
      "Victory A: 0.335 Victory B 0.665\n",
      "Victory A: 0.321 Victory B 0.679\n"
     ]
    }
   ],
   "source": [
    "battleStatistics([(2,2,3,2)],[(2,3,2,2)])\n",
    "battleStatistics([(2,2,3,2),(2,2,3,2)],[(2,3,2,2),(2,3,2,2)])\n",
    "battleStatistics([(2,2,3,2),(2,2,3,2),(2,2,3,2)],[(2,3,2,2),(2,3,2,2),(2,3,2,2)])\n",
    "battleStatistics([(2,2,3,2),(2,2,3,2),(2,2,3,2),(2,2,3,2)],[(2,3,2,2),(2,3,2,2),(2,3,2,2),(2,3,2,2)])\n",
    "battleStatistics([(2,2,3,2),(2,2,3,2),(2,2,3,2),(2,2,3,2),(2,2,3,2)],[(2,3,2,2),(2,3,2,2),(2,3,2,2),(2,3,2,2),(2,3,2,2)])"
   ]
  },
  {
   "cell_type": "markdown",
   "metadata": {},
   "source": [
    "Attack is better than defense. A 3-2 fleet beat 2-3 fleets. The difference grows with fleet strength."
   ]
  },
  {
   "cell_type": "code",
   "execution_count": 309,
   "metadata": {
    "scrolled": false
   },
   "outputs": [
    {
     "name": "stdout",
     "output_type": "stream",
     "text": [
      "Victory A: 0.396 Victory B 0.604\n",
      "Victory A: 0.436 Victory B 0.564\n",
      "\n",
      "Victory A: 0.425 Victory B 0.575\n",
      "Victory A: 0.278 Victory B 0.722\n",
      "\n",
      "Victory A: 0.315 Victory B 0.685\n",
      "Victory A: 0.218 Victory B 0.782\n"
     ]
    }
   ],
   "source": [
    "battleStatistics([(2,2,3,2),(2,2,3,2),(2,2,3,2)],[(2,2,3,2),(2,2,3,2),(2,2,4,2)])\n",
    "battleStatistics([(2,2,3,2),(2,2,3,2),(2,2,3,2)],[(2,2,4,2),(2,2,3,2),(2,2,3,2)])\n",
    "print()\n",
    "battleStatistics([(2,2,3,2),(2,2,3,2),(2,2,3,2)],[(2,2,3,2),(2,2,3,2),(2,3,3,2)])\n",
    "battleStatistics([(2,2,3,2),(2,2,3,2),(2,2,3,2)],[(2,3,3,2),(2,2,3,2),(2,2,3,2)])\n",
    "print()\n",
    "battleStatistics([(2,2,3,2),(2,2,3,2),(2,2,3,2)],[(2,2,3,2),(2,2,3,2),(2,3,4,2)])\n",
    "battleStatistics([(2,2,3,2),(2,2,3,2),(2,2,3,2)],[(2,3,4,2),(2,2,3,2),(2,2,3,2)])"
   ]
  },
  {
   "cell_type": "markdown",
   "metadata": {},
   "source": [
    "Is it better to go for the strongest first or the weakest first? Go first for the less defended, more damaging ship. If both factors oppose, prime damage: go for the most heavily armed ship."
   ]
  },
  {
   "cell_type": "markdown",
   "metadata": {},
   "source": [
    "TO-DO: Text file. Git. Publish."
   ]
  },
  {
   "cell_type": "code",
   "execution_count": null,
   "metadata": {},
   "outputs": [],
   "source": []
  }
 ],
 "metadata": {
  "kernelspec": {
   "display_name": "Python [conda env:PythonCPU]",
   "language": "python",
   "name": "conda-env-PythonCPU-py"
  },
  "language_info": {
   "codemirror_mode": {
    "name": "ipython",
    "version": 3
   },
   "file_extension": ".py",
   "mimetype": "text/x-python",
   "name": "python",
   "nbconvert_exporter": "python",
   "pygments_lexer": "ipython3",
   "version": "3.7.3"
  }
 },
 "nbformat": 4,
 "nbformat_minor": 2
}
